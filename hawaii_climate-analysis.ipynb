{
 "cells": [
  {
   "cell_type": "code",
   "execution_count": 1,
   "metadata": {},
   "outputs": [],
   "source": [
    "# Dependencies\n",
    "import pandas as pd\n",
    "import numpy as np\n",
    "import os\n",
    "import datetime as dt"
   ]
  },
  {
   "cell_type": "code",
   "execution_count": 2,
   "metadata": {},
   "outputs": [],
   "source": [
    "%matplotlib inline\n",
    "from matplotlib import style\n",
    "style.use('fivethirtyeight')\n",
    "import matplotlib.pyplot as plt"
   ]
  },
  {
   "cell_type": "code",
   "execution_count": 3,
   "metadata": {},
   "outputs": [],
   "source": [
    "startDate='2017-08-19'\n",
    "endDate='2017-08-23'"
   ]
  },
  {
   "cell_type": "markdown",
   "metadata": {},
   "source": [
    "# Reflect Tables into SQLAlchemy ORM"
   ]
  },
  {
   "cell_type": "code",
   "execution_count": 4,
   "metadata": {},
   "outputs": [],
   "source": [
    "import sqlalchemy\n",
    "from sqlalchemy.ext.automap import automap_base\n",
    "from sqlalchemy.orm import Session\n",
    "from sqlalchemy import create_engine, inspect, func"
   ]
  },
  {
   "cell_type": "code",
   "execution_count": 5,
   "metadata": {},
   "outputs": [],
   "source": [
    "# Use SQLAlchemy create_engine to connect to your sqlite database.\n",
    "engine = create_engine(\"sqlite:///Resources/hawaii.sqlite\")"
   ]
  },
  {
   "cell_type": "code",
   "execution_count": 6,
   "metadata": {},
   "outputs": [],
   "source": [
    "# reflect an existing database into a new model\n",
    "Base = automap_base()\n",
    "# reflect the tables\n",
    "Base.prepare(engine, reflect=True)"
   ]
  },
  {
   "cell_type": "code",
   "execution_count": 7,
   "metadata": {},
   "outputs": [
    {
     "data": {
      "text/plain": [
       "['measurement', 'station']"
      ]
     },
     "execution_count": 7,
     "metadata": {},
     "output_type": "execute_result"
    }
   ],
   "source": [
    "# We can view all of the classes that automap found\n",
    "Base.classes.keys()"
   ]
  },
  {
   "cell_type": "code",
   "execution_count": 8,
   "metadata": {},
   "outputs": [],
   "source": [
    "# Save references to each table\n",
    "Measurement = Base.classes.measurement\n",
    "Station = Base.classes.station"
   ]
  },
  {
   "cell_type": "code",
   "execution_count": 9,
   "metadata": {},
   "outputs": [],
   "source": [
    "# Create our session (link) from Python to the DB\n",
    "session = Session(engine)"
   ]
  },
  {
   "cell_type": "code",
   "execution_count": 10,
   "metadata": {},
   "outputs": [],
   "source": [
    "# function definitions\n",
    "def isDate(d, checker=False):\n",
    "     if len(d.split('-')) == 3 and len(d.split('-')[0]) == 4 and len(d.split('-')[1]) == 2 and len(d.split('-')[2]) == 2:\n",
    "         checker = True\n",
    "     else:\n",
    "         print(f'Please enter date correctly! YYYY-MM-DD')\n",
    "     return checker\n",
    "def yearAgoDate(d):\n",
    "     if isDate(d):\n",
    "         Year = int(d.split('-')[0])\n",
    "         Month = int(d.split('-')[1])\n",
    "         Day = int(d.split('-')[2])\n",
    "     return dt.date(Year-1, Month, Day)"
   ]
  },
  {
   "cell_type": "code",
   "execution_count": 11,
   "metadata": {},
   "outputs": [],
   "source": [
    " # Choose a start date and end date for your trip. Make sure that your vacation range is approximately 3-15 days total.\n",
    " # function definition\n",
    " def setDate(dateType, isCorrect=False):\n",
    " #     print(isCorrect)\n",
    "     while not isCorrect:\n",
    "         if dateType == 'dept':\n",
    "             startDate = input(f'Please enter your departure date YYYY-MM-DD: ')\n",
    "             isCorrect = isDate(startDate)\n",
    "             return startDate\n",
    "         elif dateType == 'arr':\n",
    "             endDate = input(f'Please enter your arriving date YYYY-MM-DD: ')\n",
    "             isCorrect = isDate(endDate)\n",
    "             return endDate\n",
    "         else:\n",
    "             print('wrong date type: use dept or arr')"
   ]
  },
  {
   "cell_type": "code",
   "execution_count": 12,
   "metadata": {},
   "outputs": [
    {
     "name": "stdout",
     "output_type": "stream",
     "text": [
      "Let's start trip planning!\n",
      "Please enter your departure date YYYY-MM-DD: 2017-08-19\n"
     ]
    }
   ],
   "source": [
    " # set Dates\n",
    " print(\"Let's start trip planning!\")\n",
    " startDate = setDate('dept')"
   ]
  },
  {
   "cell_type": "code",
   "execution_count": 13,
   "metadata": {},
   "outputs": [
    {
     "name": "stdout",
     "output_type": "stream",
     "text": [
      "Please enter your arriving date YYYY-MM-DD: 2017-08-23\n"
     ]
    }
   ],
   "source": [
    " endDate = setDate('arr')"
   ]
  },
  {
   "cell_type": "code",
   "execution_count": 14,
   "metadata": {},
   "outputs": [],
   "source": [
    "# Use SQLAlchemy create_engine to connect to your sqlite database.\n",
    "engine = create_engine(\"sqlite:///Resources/hawaii.sqlite\", echo=False)\n",
    "conn = engine.connect()"
   ]
  },
  {
   "cell_type": "code",
   "execution_count": 15,
   "metadata": {},
   "outputs": [
    {
     "data": {
      "text/plain": [
       "['measurement', 'station']"
      ]
     },
     "execution_count": 15,
     "metadata": {},
     "output_type": "execute_result"
    }
   ],
   "source": [
    "inspector = inspect(engine)\n",
    "inspector.get_table_names()"
   ]
  },
  {
   "cell_type": "code",
   "execution_count": 16,
   "metadata": {},
   "outputs": [],
   "source": [
    "# Get a list of column names and types\n",
    "ms_columns = inspector.get_columns('measurements')\n",
    "for c in ms_columns:\n",
    "    print(c['name'], c['type'])"
   ]
  },
  {
   "cell_type": "code",
   "execution_count": 17,
   "metadata": {},
   "outputs": [],
   "source": [
    "st_columns = inspector.get_columns('stations')\n",
    "for c in st_columns:\n",
    "    print(c['name'], c['type'])"
   ]
  },
  {
   "cell_type": "code",
   "execution_count": 18,
   "metadata": {},
   "outputs": [],
   "source": [
    "# Use SQLAlchemy automap_base() to reflect your tables into classes and save a reference to those classes called Station and Measurement.\n",
    "Base = automap_base()\n",
    "Base.prepare(engine, reflect=True)\n",
    "Mea = Base.classes.measurement\n",
    "Sta = Base.classes.station"
   ]
  },
  {
   "cell_type": "code",
   "execution_count": 19,
   "metadata": {},
   "outputs": [
    {
     "data": {
      "text/plain": [
       "[(19550)]"
      ]
     },
     "execution_count": 19,
     "metadata": {},
     "output_type": "execute_result"
    }
   ],
   "source": [
    "session = Session(engine)\n",
    "session.query(func.count(Mea.date)).all()"
   ]
  },
  {
   "cell_type": "code",
   "execution_count": 20,
   "metadata": {},
   "outputs": [
    {
     "data": {
      "text/plain": [
       "[(9)]"
      ]
     },
     "execution_count": 20,
     "metadata": {},
     "output_type": "execute_result"
    }
   ],
   "source": [
    "session.query(func.count(Sta.name)).all()"
   ]
  },
  {
   "cell_type": "markdown",
   "metadata": {},
   "source": [
    "# Exploratory Climate Analysis"
   ]
  },
  {
   "cell_type": "code",
   "execution_count": 21,
   "metadata": {},
   "outputs": [],
   "source": [
    "# get the latest date in Measurement\n",
    "# get a year ago data from latestDate\n",
    "# Design a query to retrieve the last 12 months of precipitation data\n",
    "# Select only the date and prcp values\n",
    "# Load the query results into a Pandas DataFrame\n",
    "\n",
    "latest = session.query(Mea.date).order_by(Mea.date.desc()).first()[0]\n",
    "lYear = int(latest.split('-')[0])\n",
    "lMonth = int(latest.split('-')[1])\n",
    "lDay = int(latest.split('-')[2])\n",
    "\n",
    "latestDate = dt.date(lYear, lMonth, lDay)\n",
    "\n",
    "prevDate = yearAgoDate(latest)\n",
    "\n",
    "prcp = pd.read_sql(session.query(Mea.date, Mea.prcp).filter(Mea.date > prevDate, Mea.date <= latestDate).order_by(Mea.date).statement, session.bind)"
   ]
  },
  {
   "cell_type": "code",
   "execution_count": 22,
   "metadata": {},
   "outputs": [
    {
     "data": {
      "text/plain": [
       "pandas._libs.tslibs.timestamps.Timestamp"
      ]
     },
     "execution_count": 22,
     "metadata": {},
     "output_type": "execute_result"
    }
   ],
   "source": [
    "# set date as datetime\n",
    "prcp['date']=pd.to_datetime(prcp['date'])\n",
    "type(prcp.loc[0,'date'])"
   ]
  },
  {
   "cell_type": "code",
   "execution_count": 23,
   "metadata": {},
   "outputs": [
    {
     "data": {
      "image/png": "[encoded data removed]",
      "text/plain": [
       "<Figure size 432x288 with 1 Axes>"
      ]
     },
     "metadata": {
      "needs_background": "light"
     },
     "output_type": "display_data"
    }
   ],
   "source": [
    "# set the index to the date column.\n",
    "prcp_i = prcp.set_index('date')\n",
    "%matplotlib inline\n",
    "p1 = plt.bar(prcp_i.index, prcp_i['prcp'])\n",
    "plt.xticks(rotation=70)\n",
    "plt.legend([p1],['precipitation'])\n",
    "ax=plt.gca()\n",
    "ax.set_xlabel('date')\n",
    "ax.set_ylabel('precipitation')\n",
    "ax.grid()\n",
    "ax.set_xlim(['2016-09-01','2017-08-23'])\n",
    "plt.show()"
   ]
  },
  {
   "cell_type": "code",
   "execution_count": 24,
   "metadata": {
    "scrolled": true
   },
   "outputs": [
    {
     "data": {
      "text/html": [
       "<div>\n",
       "<style scoped>\n",
       "    .dataframe tbody tr th:only-of-type {\n",
       "        vertical-align: middle;\n",
       "    }\n",
       "\n",
       "    .dataframe tbody tr th {\n",
       "        vertical-align: top;\n",
       "    }\n",
       "\n",
       "    .dataframe thead th {\n",
       "        text-align: right;\n",
       "    }\n",
       "</style>\n",
       "<table border=\"1\" class=\"dataframe\">\n",
       "  <thead>\n",
       "    <tr style=\"text-align: right;\">\n",
       "      <th></th>\n",
       "      <th>prcp</th>\n",
       "    </tr>\n",
       "  </thead>\n",
       "  <tbody>\n",
       "    <tr>\n",
       "      <th>count</th>\n",
       "      <td>2015.000000</td>\n",
       "    </tr>\n",
       "    <tr>\n",
       "      <th>mean</th>\n",
       "      <td>0.176462</td>\n",
       "    </tr>\n",
       "    <tr>\n",
       "      <th>std</th>\n",
       "      <td>0.460288</td>\n",
       "    </tr>\n",
       "    <tr>\n",
       "      <th>min</th>\n",
       "      <td>0.000000</td>\n",
       "    </tr>\n",
       "    <tr>\n",
       "      <th>25%</th>\n",
       "      <td>0.000000</td>\n",
       "    </tr>\n",
       "    <tr>\n",
       "      <th>50%</th>\n",
       "      <td>0.020000</td>\n",
       "    </tr>\n",
       "    <tr>\n",
       "      <th>75%</th>\n",
       "      <td>0.130000</td>\n",
       "    </tr>\n",
       "    <tr>\n",
       "      <th>max</th>\n",
       "      <td>6.700000</td>\n",
       "    </tr>\n",
       "  </tbody>\n",
       "</table>\n",
       "</div>"
      ],
      "text/plain": [
       "              prcp\n",
       "count  2015.000000\n",
       "mean      0.176462\n",
       "std       0.460288\n",
       "min       0.000000\n",
       "25%       0.000000\n",
       "50%       0.020000\n",
       "75%       0.130000\n",
       "max       6.700000"
      ]
     },
     "execution_count": 24,
     "metadata": {},
     "output_type": "execute_result"
    }
   ],
   "source": [
    "# Use Pandas to print the summary statistics for the precipitation data.\n",
    "prcp.describe()"
   ]
  },
  {
   "cell_type": "code",
   "execution_count": 25,
   "metadata": {},
   "outputs": [
    {
     "data": {
      "text/plain": [
       "[(9)]"
      ]
     },
     "execution_count": 25,
     "metadata": {},
     "output_type": "execute_result"
    }
   ],
   "source": [
    "# Design a query to calculate the total number of stations.\n",
    "session.query(func.count(Sta.name)).all()"
   ]
  },
  {
   "cell_type": "code",
   "execution_count": 26,
   "metadata": {},
   "outputs": [
    {
     "name": "stdout",
     "output_type": "stream",
     "text": [
      "[(58.0, 74.49424228466145, 87.0)]\n"
     ]
    }
   ],
   "source": [
    "# Write a function called `calc_temps` that will accept start date and end date in the format '%Y-%m-%d' \n",
    "# and return the minimum, average, and maximum temperatures for that range of dates\n",
    "def calc_temps(start_date, end_date):\n",
    "    \"\"\"TMIN, TAVG, and TMAX for a list of dates.\n",
    "    \n",
    "    Args:\n",
    "        start_date (string): A date string in the format %Y-%m-%d\n",
    "        end_date (string): A date string in the format %Y-%m-%d\n",
    "        \n",
    "    Returns:\n",
    "        TMIN, TAVE, and TMAX\n",
    "    \"\"\"\n",
    "\n",
    "    return session.query(func.min(Measurement.tobs), func.avg(Measurement.tobs), func.max(Measurement.tobs)).\\\n",
    "        filter(Measurement.date >= start_date).filter(Measurement.date <= end_date).all()\n",
    "print(calc_temps('2016-09-01', '2017-08-23'))"
   ]
  },
  {
   "cell_type": "code",
   "execution_count": 27,
   "metadata": {},
   "outputs": [
    {
     "name": "stdout",
     "output_type": "stream",
     "text": [
      "[(71.0, 79.61111111111111, 85.0)]\n"
     ]
    }
   ],
   "source": [
    "# Write a function called `calc_temps` that will accept start date and end date in the format '%Y-%m-%d' \n",
    "# and return the minimum, average, and maximum temperatures for that range of dates\n",
    "def calc_temps(start_date, end_date):\n",
    "    \"\"\"TMIN, TAVG, and TMAX for a list of dates.\n",
    "    \n",
    "    Args:\n",
    "        start_date (string): A date string in the format %Y-%m-%d\n",
    "        end_date (string): A date string in the format %Y-%m-%d\n",
    "        \n",
    "    Returns:\n",
    "        TMIN, TAVE, and TMAX\n",
    "    \"\"\"\n",
    "   \n",
    "    return session.query(func.min(Measurement.tobs), func.avg(Measurement.tobs), func.max(Measurement.tobs)).\\\n",
    "        filter(Measurement.date >= start_date).filter(Measurement.date <= end_date).all()\n",
    "print(calc_temps('2017-08-19', '2017-08-23'))"
   ]
  },
  {
   "cell_type": "code",
   "execution_count": 28,
   "metadata": {},
   "outputs": [
    {
     "name": "stdout",
     "output_type": "stream",
     "text": [
      "WAIHEE 837.5, HI US has The highest number of observations, the observation count is 2772.\n"
     ]
    }
   ],
   "source": [
    "# Design a query to find the most active stations.\n",
    "# List the stations and observation counts in descending order\n",
    "sel = [Sta.name, Mea.station, Mea.date, Mea.prcp, Mea.tobs]\n",
    "st_DF=pd.read_sql(session.query(*sel).filter(Mea.station == Sta.station).order_by(Mea.date).statement, session.bind)\n",
    "st_DF.groupby('name').count().sort_values(by='station', ascending=False)['station']\n",
    "# Which station has the highest number of observations?\n",
    "highestSt = st_DF.groupby('name').count().sort_values(by='station', ascending=False)['station'].index[0]\n",
    "highestCnt = st_DF.groupby('name').count().sort_values(by='station', ascending=False)['station'][0]\n",
    "# print results\n",
    "print(f'{highestSt} has The highest number of observations, the observation count is {highestCnt}.')"
   ]
  },
  {
   "cell_type": "code",
   "execution_count": 29,
   "metadata": {},
   "outputs": [
    {
     "data": {
      "image/png": "[encoded data removed]",
      "text/plain": [
       "<Figure size 432x288 with 1 Axes>"
      ]
     },
     "metadata": {
      "needs_background": "light"
     },
     "output_type": "display_data"
    }
   ],
   "source": [
    "# Design a query to retrieve the last 12 months of temperature observation data (tobs).\n",
    "tobs_past12 = pd.read_sql(session.query(Mea.date, Sta.name, Mea.tobs).filter(Mea.station == Sta.station, Mea.date > prevDate, Mea.date < latestDate).order_by(Mea.date).statement, session.bind)\n",
    "# tobs_past12\n",
    "\n",
    "# Filter by the station with the highest number of observations.\n",
    "tobs_past12.loc[tobs_past12['name']== highestSt]\n",
    "\n",
    "# Plot the results as a histogram with bins=12.\n",
    "tobs_past12.loc[tobs_past12['name']== highestSt].plot.hist(bins=12, alpha=0.5)\n",
    "ax=plt.gca()\n",
    "ax.set_xlabel('Temperature / F')\n",
    "ax.grid()\n",
    "\n",
    "plt.show()"
   ]
  },
  {
   "cell_type": "code",
   "execution_count": 30,
   "metadata": {},
   "outputs": [],
   "source": [
    "# Write a function called calc_temps that will accept a start date and end date in the format %Y-%m-%d and return the minimum, average, and maximum temperatures for that range of dates.\n",
    "def calc_temps(start, end):\n",
    "    if start > end:\n",
    "        start_ = end\n",
    "        end_ = start\n",
    "    else:\n",
    "        start_ = start\n",
    "        end_ = end\n",
    "    \n",
    "    start_prev = yearAgoDate(start_)\n",
    "    end_prev = yearAgoDate(end_)\n",
    "\n",
    "    tobs_DF = pd.read_sql(session.query(Mea.tobs).filter(Mea.date > start_prev, Mea.date < end_prev).statement, session.bind)\n",
    "    return {\n",
    "        'min': tobs_DF.describe().loc[tobs_DF.describe().index=='min']['tobs'][0],\n",
    "        'avg': tobs_DF.describe().loc[tobs_DF.describe().index=='mean']['tobs'][0],\n",
    "        'max': tobs_DF.describe().loc[tobs_DF.describe().index=='max']['tobs'][0],\n",
    "        'start_date': start_prev,\n",
    "        'end_date': end_prev\n",
    "    }"
   ]
  },
  {
   "cell_type": "code",
   "execution_count": 35,
   "metadata": {},
   "outputs": [
    {
     "data": {
      "image/png": "[encoded data removed]",
      "text/plain": [
       "<Figure size 432x288 with 1 Axes>"
      ]
     },
     "metadata": {
      "needs_background": "light"
     },
     "output_type": "display_data"
    }
   ],
   "source": [
    "\n",
    "# Use the calc_temps function to calculate the min, avg, and max temperatures for your trip using the matching dates from the previous year (i.e. use \"2017-01-01\" if your trip start date was \"2018-01-01\")\n",
    "tempData = calc_temps(startDate, endDate)\n",
    "\n",
    "# Plot the min, avg, and max temperature from your previous query as a bar chart.\n",
    "# Use the average temperature as the bar height.\n",
    "# Use the peak-to-peak (tmax-tmin) value as the y error bar (yerr).\n",
    "plt.bar(1,tempData['avg'],yerr=tempData['max']-tempData['min'], alpha=0.5)\n",
    "plt.xticks([1],['avg'])\n",
    "ax=plt.gca()\n",
    "ax.set_ylabel('Temp (F)')\n",
    "sDate = tempData['start_date']\n",
    "eDate = tempData['end_date']\n",
    "plt.title(f'Trip Avg Temp from {sDate} to {eDate}')\n",
    "\n",
    "ax.grid()\n",
    "plt.show()"
   ]
  },
  {
   "cell_type": "markdown",
   "metadata": {},
   "source": [
    "# Optional Recommended Analysis"
   ]
  },
  {
   "cell_type": "code",
   "execution_count": 32,
   "metadata": {},
   "outputs": [
    {
     "data": {
      "text/plain": [
       "station\n",
       "USC00513117    0.94\n",
       "USC00514830    0.00\n",
       "USC00516128    1.20\n",
       "USC00517948     NaN\n",
       "USC00519281    2.32\n",
       "USC00519397    0.40\n",
       "USC00519523    0.41\n",
       "Name: prcp, dtype: float64"
      ]
     },
     "execution_count": 32,
     "metadata": {},
     "output_type": "execute_result"
    }
   ],
   "source": [
    "# Calcualte the rainfall per weather station using the previous year's matching dates.\n",
    "# Calculate the daily normals. Normals are the averages for min, avg, and max temperatures.\n",
    "def collect_prcp(start, end):\n",
    "    if start > end:\n",
    "        start_ = end\n",
    "        end_ = start\n",
    "    else:\n",
    "        start_ = start\n",
    "        end_ = end\n",
    "    \n",
    "    start_prev = yearAgoDate(start_)\n",
    "    end_prev = yearAgoDate(end_)\n",
    "\n",
    "    return pd.read_sql(session.query(Mea.date, Mea.station, Mea.prcp).filter(Mea.date > start_prev, Mea.date < end_prev).statement, session.bind)\n",
    "\n",
    "df = collect_prcp(startDate, endDate)\n",
    "df.groupby('station').max()['prcp']"
   ]
  },
  {
   "cell_type": "code",
   "execution_count": 36,
   "metadata": {},
   "outputs": [
    {
     "data": {
      "image/png": "[encoded data removed]",
      "text/plain": [
       "<Figure size 432x288 with 1 Axes>"
      ]
     },
     "metadata": {
      "needs_background": "light"
     },
     "output_type": "display_data"
    }
   ],
   "source": [
    "# Create a function called daily_normals that will calculate the daily normals for a specific date. This date string will be in the format %m-%d. Be sure to use all historic tobs that match that date string.\n",
    "def daily_normals(day):\n",
    "    df = pd.read_sql(session.query(Mea.date, Mea.tobs).filter(Mea.date.like(\"%\" + day)).statement, session.bind)\n",
    "    return {\n",
    "        'min': df.describe().loc[df.describe().index=='min']['tobs'][0],\n",
    "        'avg': df.describe().loc[df.describe().index=='mean']['tobs'][0],\n",
    "        'max': df.describe().loc[df.describe().index=='max']['tobs'][0],\n",
    "        'date': day,\n",
    "    }\n",
    "# Create a list of dates for your trip in the format %m-%d. Use the daily_normals function to calculate the normals for each date string and append the results to a list.\n",
    "dates = ['08-19','08-20','08-21','08-22','05-23']\n",
    "tmin = []\n",
    "tmax = []\n",
    "tavg = []\n",
    "for day in dates:\n",
    "    result = daily_normals(day)\n",
    "    tmin.append(result['min'])\n",
    "    tmax.append(result['max'])\n",
    "    tavg.append(result['avg'])\n",
    "\n",
    "# Load the list of daily normals into a Pandas DataFrame and set the index equal to the date.\n",
    "result_DF = pd.DataFrame({\n",
    "    'date': dates,\n",
    "    'tmin': tmin,\n",
    "    'tavg': tavg,\n",
    "    'tmax': tmax\n",
    "})\n",
    "# result_DF\n",
    "\n",
    "# Use Pandas to plot an area plot (stacked=False) for the daily normals.\n",
    "plt1 = result_DF.plot.area(stacked=False)\n",
    "plt.xticks([0,1,2,3,4],dates)\n",
    "plt1.set_xlabel('date')\n",
    "plt1.set_ylabel('tobs')\n",
    "plt.grid()\n",
    "plt.title(f'Trip Avg tobs')\n",
    "\n",
    "plt.show()"
   ]
  },
  {
   "cell_type": "code",
   "execution_count": null,
   "metadata": {},
   "outputs": [],
   "source": []
  }
 ],
 "metadata": {
  "kernelspec": {
   "display_name": "Python 3",
   "language": "python",
   "name": "python3"
  },
  "language_info": {
   "codemirror_mode": {
    "name": "ipython",
    "version": 3
   },
   "file_extension": ".py",
   "mimetype": "text/x-python",
   "name": "python",
   "nbconvert_exporter": "python",
   "pygments_lexer": "ipython3",
   "version": "3.6.7"
  }
 },
 "nbformat": 4,
 "nbformat_minor": 2
}
